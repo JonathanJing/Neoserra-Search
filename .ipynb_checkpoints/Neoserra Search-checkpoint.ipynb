{
 "cells": [
  {
   "cell_type": "code",
   "execution_count": 1,
   "metadata": {},
   "outputs": [],
   "source": [
    "from selenium import webdriver\n",
    "from selenium.webdriver.common.keys import Keys\n",
    "import pandas as pd\n",
    "import time\n",
    "import re"
   ]
  },
  {
   "cell_type": "code",
   "execution_count": 58,
   "metadata": {},
   "outputs": [],
   "source": [
    "#Login to Neoserra\n",
    "browser = webdriver.Chrome()\n",
    "browser.get('https://trisbdc.neoserra.com')\n",
    "username = browser.find_element_by_id('username')\n",
    "username.send_keys('zjing')\n",
    "password = browser.find_element_by_xpath('//*[@id=\"loginpanel\"]/form/table/tbody/tr[2]/td[2]/input')\n",
    "password.send_keys('03172020')\n",
    "signInButton = browser.find_element_by_id('submit')\n",
    "signInButton.click()"
   ]
  },
  {
   "cell_type": "code",
   "execution_count": 126,
   "metadata": {},
   "outputs": [],
   "source": [
    "#Search with client ID\n",
    "def search_client(client_info):\n",
    "    browser.get('https://trisbdc.neoserra.com')\n",
    "    browser.find_element_by_id('q').click()\n",
    "    browser.find_element_by_id('q').send_keys(client_info)\n",
    "    time.sleep(1)\n",
    "    webdriver.ActionChains(browser).key_down(Keys.DOWN).perform()\n",
    "    webdriver.ActionChains(browser).key_down(Keys.ENTER).perform()\n",
    "    \n",
    "    \n",
    "#Open Capital Funding\n",
    "def open_capital_funding():\n",
    "    browser.find_element_by_link_text('New').click()\n",
    "    #time.sleep(0.5)\n",
    "    browser.find_element_by_link_text('Capital Funding').click()\n",
    "    \n",
    "#Capital Funding Page\n",
    "def adding_grant():\n",
    "    #Consultants\n",
    "    #Using Counsultant column in dataset\n",
    "    browser.find_element_by_id('counselors').click()\n",
    "    webdriver.ActionChains(browser).key_down(Keys.BACKSPACE).perform()\n",
    "    webdriver.ActionChains(browser).key_down(Keys.BACKSPACE).perform()\n",
    "    browser.find_element_by_id('counselors').send_keys(df[\"Consultant\"][i])\n",
    "    time.sleep(0.5)\n",
    "    webdriver.ActionChains(browser).key_down(Keys.DOWN).perform()\n",
    "    webdriver.ActionChains(browser).key_down(Keys.ENTER).perform()\n",
    "    #Reporting Date: 12/21/2020\n",
    "    browser.find_element_by_id('eleDATE').clear()\n",
    "    browser.find_element_by_id('eleDATE').send_keys(\"12/21/2020\")\n",
    "    webdriver.ActionChains(browser).key_down(Keys.TAB).perform()\n",
    "    #Application Date: 12/21/2020\t\n",
    "    browser.find_element_by_id('eleAPPDATE').clear()\n",
    "    browser.find_element_by_id('eleAPPDATE').send_keys(\"12/21/2020\")\n",
    "    webdriver.ActionChains(browser).key_down(Keys.TAB).perform()\n",
    "    #Completion Status: Approved\n",
    "    browser.find_element_by_id('spanSTATUS').find_elements_by_tag_name(\"option\")[0].click()\n",
    "    #Date Completed: 12/21/2020\t\n",
    "    browser.find_element_by_id('eleDATE_COMPLETED').clear()\n",
    "    browser.find_element_by_id('eleDATE_COMPLETED').send_keys(\"12/21/2020\")\n",
    "    #Funding Type: SBA Loan\n",
    "    browser.find_element_by_id('spanTYPE').find_elements_by_tag_name(\"option\")[1].click()\n",
    "    #COVID-19 related?\n",
    "    browser.find_element_by_id('COVID19').send_keys(Keys.SPACE)\n",
    "    #Amount Requested: same\n",
    "    #Using Award Amount column in dataset\n",
    "    browser.find_element_by_id('eleAMOUNT_REQ').send_keys(int(df[\"Award Amount\"][i]))\n",
    "    #Amount Approved: same\n",
    "    #Using Award Amount column in dataset\n",
    "    browser.find_element_by_id('eleAMOUNT_APPROVED').send_keys(int(df[\"Award Amount\"][i]))\n",
    "    #Subject: Fullerton City Grant Program Alternates\n",
    "    #Using File Name column in dataset\n",
    "    browser.find_element_by_id('eleTEXT').send_keys(df[\"File Name\"][i])\n",
    "    #Center: related to Consultants\n",
    "    #Using Center column in dataset\n",
    "    if df['Center'][i] == 'CSUF North':\n",
    "        browser.find_element_by_id('spanCENTER_ID').find_elements_by_tag_name(\"option\")[1].click()\n",
    "    elif df['Center'][i] == 'CSUF South':\n",
    "        browser.find_element_by_id('spanCENTER_ID').find_elements_by_tag_name(\"option\")[2].click()\n",
    "    elif df['Center'][i] == 'CV SBDC':\n",
    "        browser.find_element_by_id('spanCENTER_ID').find_elements_by_tag_name(\"option\")[0].click()\n",
    "    elif df['Center'][i] == 'LaunchPad':\n",
    "        browser.find_element_by_id('spanCENTER_ID').find_elements_by_tag_name(\"option\")[7].click()\n",
    "    elif df['Center'][i] == 'LC':\n",
    "        browser.find_element_by_id('spanCENTER_ID').find_elements_by_tag_name(\"option\")[4].click()\n",
    "    elif df['Center'][i] == 'RVRS':\n",
    "        browser.find_element_by_id('spanCENTER_ID').find_elements_by_tag_name(\"option\")[3].click()\n",
    "    elif df['Center'][i] == 'SANANA':\n",
    "        browser.find_element_by_id('spanCENTER_ID').find_elements_by_tag_name(\"option\")[6].click()\n",
    "    elif df['Center'][i] == 'UCI':\n",
    "        browser.find_element_by_id('spanCENTER_ID').find_elements_by_tag_name(\"option\")[8].click()\n",
    "    elif df['Center'][i] == 'UCR':\n",
    "        browser.find_element_by_id('spanCENTER_ID').find_elements_by_tag_name(\"option\")[9].click() \n",
    "    elif df['Center'][i] == 'OCH':\n",
    "        browser.find_element_by_id('spanCENTER_ID').find_elements_by_tag_name(\"option\")[5].click() \n",
    "    else:\n",
    "        print('Unknown center, type default center \"CSUF North\"')\n",
    "        browser.find_element_by_id('spanCENTER_ID').find_elements_by_tag_name(\"option\")[1].click()\n",
    "    #Funding Source: SBA\n",
    "    browser.find_element_by_id('spanFUNDAREA').find_elements_by_tag_name(\"option\")[1].click()\n",
    "    #Notes: \"City Grant Approved\"\n",
    "    browser.find_element_by_id('eleMEMO').send_keys(\"City Grant Approved\")\n",
    "    #Attribution Source: Signed Form\n",
    "    browser.find_element_by_id('spanATTRIBUTION').find_elements_by_tag_name(\"option\")[2].click()\n",
    "    #Did the client check the media release box on the EIL to use for success stories? No\n",
    "    browser.find_element_by_id('eleUSERDEF1').send_keys(Keys.RIGHT)"
   ]
  },
  {
   "cell_type": "code",
   "execution_count": 215,
   "metadata": {},
   "outputs": [],
   "source": [
    "def search_create_capital_funding(i):\n",
    "    #Search by client ID\n",
    "    #print(\"search ID:\", df[\"Neoserra Client ID #\"][i])\n",
    "    #search_client(df[\"Neoserra Client ID #\"][i])\n",
    "\n",
    "    #Searcg by client Name\n",
    "    print(\"  client ID\", df[\"Neoserra Client ID #\"][i], \", name:\", df[\"Name-of-Business\"][i])\n",
    "    search_client(df[\"Name-of-Business\"][i])\n",
    "    print(\"  Return name:\", browser.find_element_by_class_name('sectionTitle').text)\n",
    "\n",
    "    #Extract client ID from title in page\n",
    "    text = browser.find_element_by_class_name('sectionTitle').text.split()\n",
    "    if text[2] == df[\"Neoserra Client ID #\"][i]:\n",
    "        print(\"  Client name match!\")\n",
    "        open_capital_funding()\n",
    "        adding_grant()\n",
    "        browser.find_element_by_id('main-edit-save-button').click()\n",
    "        print(\"  Complete!\")\n",
    "    else:\n",
    "        print(\"\\x1b[31m\\\"!!! Not Match!, Client name is\\\"\\x1b[0m\", df[\"Name-of-Business\"][i])\n",
    "        import winsound\n",
    "        error_sound()\n",
    "        pass"
   ]
  },
  {
   "cell_type": "code",
   "execution_count": 233,
   "metadata": {
    "ExecuteTime": {
     "end_time": "2020-12-28T06:49:37.362767Z",
     "start_time": "2020-12-28T06:49:36.336325Z"
    }
   },
   "outputs": [],
   "source": [
    "def finish_sound():\n",
    "    import winsound\n",
    "    duration = 300 #milliseconds\n",
    "    freq = 500 #Hz\n",
    "    winsound.Beep(freq, duration)\n",
    "    winsound.Beep(600, duration)\n",
    "    winsound.Beep(700, duration)\n",
    "\n",
    "def error_sound():\n",
    "    import winsound\n",
    "    duration = 500 #milliseconds\n",
    "    freq = 1000 #Hz\n",
    "    winsound.Beep(freq, duration)"
   ]
  },
  {
   "cell_type": "code",
   "execution_count": 180,
   "metadata": {},
   "outputs": [
    {
     "name": "stderr",
     "output_type": "stream",
     "text": [
      "<ipython-input-180-4d2abeb7a843>:7: SettingWithCopyWarning: \n",
      "A value is trying to be set on a copy of a slice from a DataFrame\n",
      "\n",
      "See the caveats in the documentation: https://pandas.pydata.org/pandas-docs/stable/user_guide/indexing.html#returning-a-view-versus-a-copy\n",
      "  df[\"Neoserra Client ID #\"][i] = \"0\" + df[\"Neoserra Client ID #\"][i]\n"
     ]
    }
   ],
   "source": [
    "df = pd.read_excel(r\"C:\\Users\\Jonathan\\SynologyDrive\\SBDC work\\COVID Grant\\Summary check\\Cleaned_Tustin Phase 2 City Grant Program FINAL1.xlsx\", sheet_name = \"Director Review\")\n",
    "#df = pd.read_excel(r\"C:\\Users\\Jonathan\\SynologyDrive\\SBDC work\\COVID Grant\\Summary check\\Cleaned_Fullerton City Grant Program FINAL.xlsx\", sheet_name = \"Director Review\")\n",
    "\n",
    "df['Neoserra Client ID #'] = df['Neoserra Client ID #'].astype(str)\n",
    "for i in range(df.shape[0]):\n",
    "    if len(df[\"Neoserra Client ID #\"][i]) == 4:\n",
    "        df[\"Neoserra Client ID #\"][i] = \"0\" + df[\"Neoserra Client ID #\"][i]"
   ]
  },
  {
   "cell_type": "code",
   "execution_count": null,
   "metadata": {},
   "outputs": [],
   "source": [
    "df"
   ]
  },
  {
   "cell_type": "code",
   "execution_count": 225,
   "metadata": {},
   "outputs": [],
   "source": [
    "# Manual mode: Following three block\n",
    "i = 110"
   ]
  },
  {
   "cell_type": "code",
   "execution_count": 226,
   "metadata": {},
   "outputs": [],
   "source": [
    "open_capital_funding()\n",
    "adding_grant()"
   ]
  },
  {
   "cell_type": "code",
   "execution_count": 227,
   "metadata": {},
   "outputs": [],
   "source": [
    "#Click \"SAVE\" button\n",
    "browser.find_element_by_id('main-edit-save-button').click()"
   ]
  },
  {
   "cell_type": "code",
   "execution_count": null,
   "metadata": {},
   "outputs": [],
   "source": [
    "search_create_capital_funding(i)"
   ]
  },
  {
   "cell_type": "code",
   "execution_count": null,
   "metadata": {},
   "outputs": [],
   "source": [
    "num_line = df.shape[0]\n",
    "for i in range(111, num_line):\n",
    "    print(\"###### Start line:\",i)\n",
    "    search_create_capital_funding(i)    \n",
    "print(\"### Finished!\")\n",
    "finish_sound()"
   ]
  },
  {
   "cell_type": "code",
   "execution_count": null,
   "metadata": {},
   "outputs": [],
   "source": [
    "#For Mac\n",
    "import os\n",
    "os.system('say \"your program has finished\"')"
   ]
  },
  {
   "cell_type": "code",
   "execution_count": null,
   "metadata": {},
   "outputs": [],
   "source": []
  },
  {
   "cell_type": "code",
   "execution_count": 191,
   "metadata": {},
   "outputs": [
    {
     "name": "stdout",
     "output_type": "stream",
     "text": [
      "\u001b[31m\"red\"\u001b[0m\n"
     ]
    }
   ],
   "source": [
    "print(\"\\x1b[31m\\\"red\\\"\\x1b[0m\")"
   ]
  },
  {
   "cell_type": "code",
   "execution_count": null,
   "metadata": {},
   "outputs": [],
   "source": []
  }
 ],
 "metadata": {
  "kernelspec": {
   "display_name": "Python 3",
   "language": "python",
   "name": "python3"
  },
  "language_info": {
   "codemirror_mode": {
    "name": "ipython",
    "version": 3
   },
   "file_extension": ".py",
   "mimetype": "text/x-python",
   "name": "python",
   "nbconvert_exporter": "python",
   "pygments_lexer": "ipython3",
   "version": "3.8.5"
  }
 },
 "nbformat": 4,
 "nbformat_minor": 4
}
